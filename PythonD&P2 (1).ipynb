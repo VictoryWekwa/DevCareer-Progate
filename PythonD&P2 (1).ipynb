{
 "cells": [
  {
   "cell_type": "code",
   "execution_count": 2,
   "metadata": {},
   "outputs": [],
   "source": [
    "# importing libraries\n",
    "\n",
    "import pandas as pd\n",
    "import seaborn as sbn\n",
    "import numpy as np"
   ]
  },
  {
   "cell_type": "code",
   "execution_count": 3,
   "metadata": {},
   "outputs": [],
   "source": [
    "from matplotlib import pyplot as plt"
   ]
  },
  {
   "cell_type": "code",
   "execution_count": 5,
   "metadata": {},
   "outputs": [],
   "source": [
    "# importing the variable description dataset \n",
    "# that gives information about my dataset\n",
    "VariableDescription= pd.read_csv('VariableDescription.csv')"
   ]
  },
  {
   "cell_type": "code",
   "execution_count": 6,
   "metadata": {},
   "outputs": [
    {
     "data": {
      "text/html": [
       "<div>\n",
       "<style scoped>\n",
       "    .dataframe tbody tr th:only-of-type {\n",
       "        vertical-align: middle;\n",
       "    }\n",
       "\n",
       "    .dataframe tbody tr th {\n",
       "        vertical-align: top;\n",
       "    }\n",
       "\n",
       "    .dataframe thead th {\n",
       "        text-align: right;\n",
       "    }\n",
       "</style>\n",
       "<table border=\"1\" class=\"dataframe\">\n",
       "  <thead>\n",
       "    <tr style=\"text-align: right;\">\n",
       "      <th></th>\n",
       "      <th>Variable</th>\n",
       "      <th>Description</th>\n",
       "    </tr>\n",
       "  </thead>\n",
       "  <tbody>\n",
       "    <tr>\n",
       "      <td>0</td>\n",
       "      <td>Customer Id</td>\n",
       "      <td>Identification number for the Policy holder</td>\n",
       "    </tr>\n",
       "    <tr>\n",
       "      <td>1</td>\n",
       "      <td>YearOfObservation</td>\n",
       "      <td>year of observation for the insured policy</td>\n",
       "    </tr>\n",
       "    <tr>\n",
       "      <td>2</td>\n",
       "      <td>Insured_Period</td>\n",
       "      <td>duration of insurance policy in Olusola Insura...</td>\n",
       "    </tr>\n",
       "    <tr>\n",
       "      <td>3</td>\n",
       "      <td>Residential</td>\n",
       "      <td>is the building a residential building or not</td>\n",
       "    </tr>\n",
       "    <tr>\n",
       "      <td>4</td>\n",
       "      <td>Building_Painted</td>\n",
       "      <td>is the building painted or not (N-Painted, V-N...</td>\n",
       "    </tr>\n",
       "    <tr>\n",
       "      <td>5</td>\n",
       "      <td>Building_Fenced</td>\n",
       "      <td>is the building fence or not (N-Fenced, V-Not ...</td>\n",
       "    </tr>\n",
       "    <tr>\n",
       "      <td>6</td>\n",
       "      <td>Garden</td>\n",
       "      <td>building has garden or not (V-has garden; O-no...</td>\n",
       "    </tr>\n",
       "    <tr>\n",
       "      <td>7</td>\n",
       "      <td>Settlement</td>\n",
       "      <td>Area where the building is located. (R- rural ...</td>\n",
       "    </tr>\n",
       "    <tr>\n",
       "      <td>8</td>\n",
       "      <td>Building Dimension</td>\n",
       "      <td>Size of the insured building in m2</td>\n",
       "    </tr>\n",
       "    <tr>\n",
       "      <td>9</td>\n",
       "      <td>Building_Type</td>\n",
       "      <td>The type of building (Type 1, 2, 3, 4)</td>\n",
       "    </tr>\n",
       "    <tr>\n",
       "      <td>10</td>\n",
       "      <td>Date_of_Occupancy</td>\n",
       "      <td>date building was first occupied</td>\n",
       "    </tr>\n",
       "    <tr>\n",
       "      <td>11</td>\n",
       "      <td>NumberOfWindows</td>\n",
       "      <td>number of windows in the building</td>\n",
       "    </tr>\n",
       "    <tr>\n",
       "      <td>12</td>\n",
       "      <td>Geo Code</td>\n",
       "      <td>Geographical Code of the Insured building</td>\n",
       "    </tr>\n",
       "    <tr>\n",
       "      <td>13</td>\n",
       "      <td>Claim</td>\n",
       "      <td>target variable. (0: no claim, 1: at least one...</td>\n",
       "    </tr>\n",
       "  </tbody>\n",
       "</table>\n",
       "</div>"
      ],
      "text/plain": [
       "              Variable                                        Description\n",
       "0          Customer Id        Identification number for the Policy holder\n",
       "1    YearOfObservation         year of observation for the insured policy\n",
       "2       Insured_Period  duration of insurance policy in Olusola Insura...\n",
       "3          Residential      is the building a residential building or not\n",
       "4     Building_Painted  is the building painted or not (N-Painted, V-N...\n",
       "5      Building_Fenced  is the building fence or not (N-Fenced, V-Not ...\n",
       "6               Garden  building has garden or not (V-has garden; O-no...\n",
       "7           Settlement  Area where the building is located. (R- rural ...\n",
       "8   Building Dimension                 Size of the insured building in m2\n",
       "9        Building_Type             The type of building (Type 1, 2, 3, 4)\n",
       "10   Date_of_Occupancy                   date building was first occupied\n",
       "11     NumberOfWindows                  number of windows in the building\n",
       "12            Geo Code          Geographical Code of the Insured building\n",
       "13               Claim  target variable. (0: no claim, 1: at least one..."
      ]
     },
     "execution_count": 6,
     "metadata": {},
     "output_type": "execute_result"
    }
   ],
   "source": [
    "VariableDescription"
   ]
  },
  {
   "cell_type": "code",
   "execution_count": 4,
   "metadata": {},
   "outputs": [],
   "source": [
    "#importing the train_data dataset.\n",
    "\n",
    "train_data= pd.read_csv('train_data.csv')"
   ]
  },
  {
   "cell_type": "code",
   "execution_count": 5,
   "metadata": {},
   "outputs": [
    {
     "data": {
      "text/html": [
       "<div>\n",
       "<style scoped>\n",
       "    .dataframe tbody tr th:only-of-type {\n",
       "        vertical-align: middle;\n",
       "    }\n",
       "\n",
       "    .dataframe tbody tr th {\n",
       "        vertical-align: top;\n",
       "    }\n",
       "\n",
       "    .dataframe thead th {\n",
       "        text-align: right;\n",
       "    }\n",
       "</style>\n",
       "<table border=\"1\" class=\"dataframe\">\n",
       "  <thead>\n",
       "    <tr style=\"text-align: right;\">\n",
       "      <th></th>\n",
       "      <th>Customer Id</th>\n",
       "      <th>YearOfObservation</th>\n",
       "      <th>Insured_Period</th>\n",
       "      <th>Residential</th>\n",
       "      <th>Building_Painted</th>\n",
       "      <th>Building_Fenced</th>\n",
       "      <th>Garden</th>\n",
       "      <th>Settlement</th>\n",
       "      <th>Building Dimension</th>\n",
       "      <th>Building_Type</th>\n",
       "      <th>Date_of_Occupancy</th>\n",
       "      <th>NumberOfWindows</th>\n",
       "      <th>Geo_Code</th>\n",
       "      <th>Claim</th>\n",
       "    </tr>\n",
       "  </thead>\n",
       "  <tbody>\n",
       "    <tr>\n",
       "      <td>0</td>\n",
       "      <td>H14663</td>\n",
       "      <td>2013</td>\n",
       "      <td>1.000000</td>\n",
       "      <td>0</td>\n",
       "      <td>N</td>\n",
       "      <td>V</td>\n",
       "      <td>V</td>\n",
       "      <td>U</td>\n",
       "      <td>290.0</td>\n",
       "      <td>1</td>\n",
       "      <td>1960.0</td>\n",
       "      <td>.</td>\n",
       "      <td>1053</td>\n",
       "      <td>0</td>\n",
       "    </tr>\n",
       "    <tr>\n",
       "      <td>1</td>\n",
       "      <td>H2037</td>\n",
       "      <td>2015</td>\n",
       "      <td>1.000000</td>\n",
       "      <td>0</td>\n",
       "      <td>V</td>\n",
       "      <td>N</td>\n",
       "      <td>O</td>\n",
       "      <td>R</td>\n",
       "      <td>490.0</td>\n",
       "      <td>1</td>\n",
       "      <td>1850.0</td>\n",
       "      <td>4</td>\n",
       "      <td>1053</td>\n",
       "      <td>0</td>\n",
       "    </tr>\n",
       "    <tr>\n",
       "      <td>2</td>\n",
       "      <td>H3802</td>\n",
       "      <td>2014</td>\n",
       "      <td>1.000000</td>\n",
       "      <td>0</td>\n",
       "      <td>N</td>\n",
       "      <td>V</td>\n",
       "      <td>V</td>\n",
       "      <td>U</td>\n",
       "      <td>595.0</td>\n",
       "      <td>1</td>\n",
       "      <td>1960.0</td>\n",
       "      <td>.</td>\n",
       "      <td>1053</td>\n",
       "      <td>0</td>\n",
       "    </tr>\n",
       "    <tr>\n",
       "      <td>3</td>\n",
       "      <td>H3834</td>\n",
       "      <td>2013</td>\n",
       "      <td>1.000000</td>\n",
       "      <td>0</td>\n",
       "      <td>V</td>\n",
       "      <td>V</td>\n",
       "      <td>V</td>\n",
       "      <td>U</td>\n",
       "      <td>2840.0</td>\n",
       "      <td>1</td>\n",
       "      <td>1960.0</td>\n",
       "      <td>.</td>\n",
       "      <td>1053</td>\n",
       "      <td>0</td>\n",
       "    </tr>\n",
       "    <tr>\n",
       "      <td>4</td>\n",
       "      <td>H5053</td>\n",
       "      <td>2014</td>\n",
       "      <td>1.000000</td>\n",
       "      <td>0</td>\n",
       "      <td>V</td>\n",
       "      <td>N</td>\n",
       "      <td>O</td>\n",
       "      <td>R</td>\n",
       "      <td>680.0</td>\n",
       "      <td>1</td>\n",
       "      <td>1800.0</td>\n",
       "      <td>3</td>\n",
       "      <td>1053</td>\n",
       "      <td>0</td>\n",
       "    </tr>\n",
       "    <tr>\n",
       "      <td>...</td>\n",
       "      <td>...</td>\n",
       "      <td>...</td>\n",
       "      <td>...</td>\n",
       "      <td>...</td>\n",
       "      <td>...</td>\n",
       "      <td>...</td>\n",
       "      <td>...</td>\n",
       "      <td>...</td>\n",
       "      <td>...</td>\n",
       "      <td>...</td>\n",
       "      <td>...</td>\n",
       "      <td>...</td>\n",
       "      <td>...</td>\n",
       "      <td>...</td>\n",
       "    </tr>\n",
       "    <tr>\n",
       "      <td>7155</td>\n",
       "      <td>H5290</td>\n",
       "      <td>2012</td>\n",
       "      <td>1.000000</td>\n",
       "      <td>1</td>\n",
       "      <td>V</td>\n",
       "      <td>V</td>\n",
       "      <td>V</td>\n",
       "      <td>U</td>\n",
       "      <td>NaN</td>\n",
       "      <td>1</td>\n",
       "      <td>2001.0</td>\n",
       "      <td>.</td>\n",
       "      <td>NaN</td>\n",
       "      <td>0</td>\n",
       "    </tr>\n",
       "    <tr>\n",
       "      <td>7156</td>\n",
       "      <td>H5926</td>\n",
       "      <td>2013</td>\n",
       "      <td>1.000000</td>\n",
       "      <td>0</td>\n",
       "      <td>V</td>\n",
       "      <td>V</td>\n",
       "      <td>V</td>\n",
       "      <td>U</td>\n",
       "      <td>NaN</td>\n",
       "      <td>2</td>\n",
       "      <td>1980.0</td>\n",
       "      <td>.</td>\n",
       "      <td>NaN</td>\n",
       "      <td>1</td>\n",
       "    </tr>\n",
       "    <tr>\n",
       "      <td>7157</td>\n",
       "      <td>H6204</td>\n",
       "      <td>2016</td>\n",
       "      <td>0.038251</td>\n",
       "      <td>0</td>\n",
       "      <td>V</td>\n",
       "      <td>V</td>\n",
       "      <td>V</td>\n",
       "      <td>U</td>\n",
       "      <td>NaN</td>\n",
       "      <td>1</td>\n",
       "      <td>1992.0</td>\n",
       "      <td>.</td>\n",
       "      <td>NaN</td>\n",
       "      <td>0</td>\n",
       "    </tr>\n",
       "    <tr>\n",
       "      <td>7158</td>\n",
       "      <td>H6537</td>\n",
       "      <td>2013</td>\n",
       "      <td>1.000000</td>\n",
       "      <td>0</td>\n",
       "      <td>V</td>\n",
       "      <td>V</td>\n",
       "      <td>V</td>\n",
       "      <td>U</td>\n",
       "      <td>NaN</td>\n",
       "      <td>1</td>\n",
       "      <td>1972.0</td>\n",
       "      <td>.</td>\n",
       "      <td>NaN</td>\n",
       "      <td>0</td>\n",
       "    </tr>\n",
       "    <tr>\n",
       "      <td>7159</td>\n",
       "      <td>H7470</td>\n",
       "      <td>2014</td>\n",
       "      <td>1.000000</td>\n",
       "      <td>0</td>\n",
       "      <td>V</td>\n",
       "      <td>V</td>\n",
       "      <td>V</td>\n",
       "      <td>U</td>\n",
       "      <td>NaN</td>\n",
       "      <td>1</td>\n",
       "      <td>2004.0</td>\n",
       "      <td>.</td>\n",
       "      <td>NaN</td>\n",
       "      <td>0</td>\n",
       "    </tr>\n",
       "  </tbody>\n",
       "</table>\n",
       "<p>7160 rows × 14 columns</p>\n",
       "</div>"
      ],
      "text/plain": [
       "     Customer Id  YearOfObservation  Insured_Period  Residential  \\\n",
       "0         H14663               2013        1.000000            0   \n",
       "1          H2037               2015        1.000000            0   \n",
       "2          H3802               2014        1.000000            0   \n",
       "3          H3834               2013        1.000000            0   \n",
       "4          H5053               2014        1.000000            0   \n",
       "...          ...                ...             ...          ...   \n",
       "7155       H5290               2012        1.000000            1   \n",
       "7156       H5926               2013        1.000000            0   \n",
       "7157       H6204               2016        0.038251            0   \n",
       "7158       H6537               2013        1.000000            0   \n",
       "7159       H7470               2014        1.000000            0   \n",
       "\n",
       "     Building_Painted Building_Fenced Garden Settlement  Building Dimension  \\\n",
       "0                   N               V      V          U               290.0   \n",
       "1                   V               N      O          R               490.0   \n",
       "2                   N               V      V          U               595.0   \n",
       "3                   V               V      V          U              2840.0   \n",
       "4                   V               N      O          R               680.0   \n",
       "...               ...             ...    ...        ...                 ...   \n",
       "7155                V               V      V          U                 NaN   \n",
       "7156                V               V      V          U                 NaN   \n",
       "7157                V               V      V          U                 NaN   \n",
       "7158                V               V      V          U                 NaN   \n",
       "7159                V               V      V          U                 NaN   \n",
       "\n",
       "      Building_Type  Date_of_Occupancy NumberOfWindows Geo_Code  Claim  \n",
       "0                 1             1960.0               .     1053      0  \n",
       "1                 1             1850.0               4     1053      0  \n",
       "2                 1             1960.0               .     1053      0  \n",
       "3                 1             1960.0               .     1053      0  \n",
       "4                 1             1800.0               3     1053      0  \n",
       "...             ...                ...             ...      ...    ...  \n",
       "7155              1             2001.0               .      NaN      0  \n",
       "7156              2             1980.0               .      NaN      1  \n",
       "7157              1             1992.0               .      NaN      0  \n",
       "7158              1             1972.0               .      NaN      0  \n",
       "7159              1             2004.0               .      NaN      0  \n",
       "\n",
       "[7160 rows x 14 columns]"
      ]
     },
     "execution_count": 5,
     "metadata": {},
     "output_type": "execute_result"
    }
   ],
   "source": [
    "train_data"
   ]
  },
  {
   "cell_type": "code",
   "execution_count": 12,
   "metadata": {},
   "outputs": [
    {
     "data": {
      "text/plain": [
       "pandas.core.frame.DataFrame"
      ]
     },
     "execution_count": 12,
     "metadata": {},
     "output_type": "execute_result"
    }
   ],
   "source": [
    "# this states how my dataset is stored\n",
    "type(train_data)"
   ]
  },
  {
   "cell_type": "code",
   "execution_count": 13,
   "metadata": {},
   "outputs": [
    {
     "name": "stdout",
     "output_type": "stream",
     "text": [
      "<class 'pandas.core.frame.DataFrame'>\n",
      "RangeIndex: 7160 entries, 0 to 7159\n",
      "Data columns (total 14 columns):\n",
      "Customer Id           7160 non-null object\n",
      "YearOfObservation     7160 non-null int64\n",
      "Insured_Period        7160 non-null float64\n",
      "Residential           7160 non-null int64\n",
      "Building_Painted      7160 non-null object\n",
      "Building_Fenced       7160 non-null object\n",
      "Garden                7153 non-null object\n",
      "Settlement            7160 non-null object\n",
      "Building Dimension    7054 non-null float64\n",
      "Building_Type         7160 non-null int64\n",
      "Date_of_Occupancy     6652 non-null float64\n",
      "NumberOfWindows       7160 non-null object\n",
      "Geo_Code              7058 non-null object\n",
      "Claim                 7160 non-null int64\n",
      "dtypes: float64(3), int64(4), object(7)\n",
      "memory usage: 587.4+ KB\n"
     ]
    }
   ],
   "source": [
    "# to know how many features i have in the dataset,int,float, \n",
    "# object, null and non-null observed no null\n",
    "#the shape of my dataset\n",
    "\n",
    "train_data.shape\n",
    "train_data.info()"
   ]
  },
  {
   "cell_type": "code",
   "execution_count": 6,
   "metadata": {},
   "outputs": [],
   "source": [
    "#Removing unimportant variables from the dataset\n",
    "\n",
    "drop_colums = ['Geo_Code', 'Building Dimension', 'NumberOfWindows']\n",
    "\n",
    "train_data = train_data.drop(drop_colums, axis=1)"
   ]
  },
  {
   "cell_type": "code",
   "execution_count": 7,
   "metadata": {},
   "outputs": [
    {
     "name": "stdout",
     "output_type": "stream",
     "text": [
      "<class 'pandas.core.frame.DataFrame'>\n",
      "RangeIndex: 7160 entries, 0 to 7159\n",
      "Data columns (total 11 columns):\n",
      "Customer Id          7160 non-null object\n",
      "YearOfObservation    7160 non-null int64\n",
      "Insured_Period       7160 non-null float64\n",
      "Residential          7160 non-null int64\n",
      "Building_Painted     7160 non-null object\n",
      "Building_Fenced      7160 non-null object\n",
      "Garden               7153 non-null object\n",
      "Settlement           7160 non-null object\n",
      "Building_Type        7160 non-null int64\n",
      "Date_of_Occupancy    6652 non-null float64\n",
      "Claim                7160 non-null int64\n",
      "dtypes: float64(2), int64(4), object(5)\n",
      "memory usage: 475.5+ KB\n"
     ]
    }
   ],
   "source": [
    "#after removing unimportant variables\n",
    "\n",
    "train_data.info()"
   ]
  },
  {
   "cell_type": "code",
   "execution_count": 16,
   "metadata": {},
   "outputs": [
    {
     "data": {
      "text/html": [
       "<div>\n",
       "<style scoped>\n",
       "    .dataframe tbody tr th:only-of-type {\n",
       "        vertical-align: middle;\n",
       "    }\n",
       "\n",
       "    .dataframe tbody tr th {\n",
       "        vertical-align: top;\n",
       "    }\n",
       "\n",
       "    .dataframe thead th {\n",
       "        text-align: right;\n",
       "    }\n",
       "</style>\n",
       "<table border=\"1\" class=\"dataframe\">\n",
       "  <thead>\n",
       "    <tr style=\"text-align: right;\">\n",
       "      <th></th>\n",
       "      <th>YearOfObservation</th>\n",
       "      <th>Insured_Period</th>\n",
       "      <th>Residential</th>\n",
       "      <th>Building_Type</th>\n",
       "      <th>Date_of_Occupancy</th>\n",
       "      <th>Claim</th>\n",
       "    </tr>\n",
       "  </thead>\n",
       "  <tbody>\n",
       "    <tr>\n",
       "      <td>count</td>\n",
       "      <td>7160.000000</td>\n",
       "      <td>7160.000000</td>\n",
       "      <td>7160.000000</td>\n",
       "      <td>7160.000000</td>\n",
       "      <td>6652.000000</td>\n",
       "      <td>7160.000000</td>\n",
       "    </tr>\n",
       "    <tr>\n",
       "      <td>mean</td>\n",
       "      <td>2013.669553</td>\n",
       "      <td>0.909758</td>\n",
       "      <td>0.305447</td>\n",
       "      <td>2.186034</td>\n",
       "      <td>1964.456404</td>\n",
       "      <td>0.228212</td>\n",
       "    </tr>\n",
       "    <tr>\n",
       "      <td>std</td>\n",
       "      <td>1.383769</td>\n",
       "      <td>0.239756</td>\n",
       "      <td>0.460629</td>\n",
       "      <td>0.940632</td>\n",
       "      <td>36.002014</td>\n",
       "      <td>0.419709</td>\n",
       "    </tr>\n",
       "    <tr>\n",
       "      <td>min</td>\n",
       "      <td>2012.000000</td>\n",
       "      <td>0.000000</td>\n",
       "      <td>0.000000</td>\n",
       "      <td>1.000000</td>\n",
       "      <td>1545.000000</td>\n",
       "      <td>0.000000</td>\n",
       "    </tr>\n",
       "    <tr>\n",
       "      <td>25%</td>\n",
       "      <td>2012.000000</td>\n",
       "      <td>0.997268</td>\n",
       "      <td>0.000000</td>\n",
       "      <td>2.000000</td>\n",
       "      <td>1960.000000</td>\n",
       "      <td>0.000000</td>\n",
       "    </tr>\n",
       "    <tr>\n",
       "      <td>50%</td>\n",
       "      <td>2013.000000</td>\n",
       "      <td>1.000000</td>\n",
       "      <td>0.000000</td>\n",
       "      <td>2.000000</td>\n",
       "      <td>1970.000000</td>\n",
       "      <td>0.000000</td>\n",
       "    </tr>\n",
       "    <tr>\n",
       "      <td>75%</td>\n",
       "      <td>2015.000000</td>\n",
       "      <td>1.000000</td>\n",
       "      <td>1.000000</td>\n",
       "      <td>3.000000</td>\n",
       "      <td>1980.000000</td>\n",
       "      <td>0.000000</td>\n",
       "    </tr>\n",
       "    <tr>\n",
       "      <td>max</td>\n",
       "      <td>2016.000000</td>\n",
       "      <td>1.000000</td>\n",
       "      <td>1.000000</td>\n",
       "      <td>4.000000</td>\n",
       "      <td>2016.000000</td>\n",
       "      <td>1.000000</td>\n",
       "    </tr>\n",
       "  </tbody>\n",
       "</table>\n",
       "</div>"
      ],
      "text/plain": [
       "       YearOfObservation  Insured_Period  Residential  Building_Type  \\\n",
       "count        7160.000000     7160.000000  7160.000000    7160.000000   \n",
       "mean         2013.669553        0.909758     0.305447       2.186034   \n",
       "std             1.383769        0.239756     0.460629       0.940632   \n",
       "min          2012.000000        0.000000     0.000000       1.000000   \n",
       "25%          2012.000000        0.997268     0.000000       2.000000   \n",
       "50%          2013.000000        1.000000     0.000000       2.000000   \n",
       "75%          2015.000000        1.000000     1.000000       3.000000   \n",
       "max          2016.000000        1.000000     1.000000       4.000000   \n",
       "\n",
       "       Date_of_Occupancy        Claim  \n",
       "count        6652.000000  7160.000000  \n",
       "mean         1964.456404     0.228212  \n",
       "std            36.002014     0.419709  \n",
       "min          1545.000000     0.000000  \n",
       "25%          1960.000000     0.000000  \n",
       "50%          1970.000000     0.000000  \n",
       "75%          1980.000000     0.000000  \n",
       "max          2016.000000     1.000000  "
      ]
     },
     "execution_count": 16,
     "metadata": {},
     "output_type": "execute_result"
    }
   ],
   "source": [
    "# Summary statistics of the dataset\n",
    "\n",
    "train_data.describe()"
   ]
  },
  {
   "cell_type": "code",
   "execution_count": 17,
   "metadata": {},
   "outputs": [
    {
     "data": {
      "text/html": [
       "<div>\n",
       "<style scoped>\n",
       "    .dataframe tbody tr th:only-of-type {\n",
       "        vertical-align: middle;\n",
       "    }\n",
       "\n",
       "    .dataframe tbody tr th {\n",
       "        vertical-align: top;\n",
       "    }\n",
       "\n",
       "    .dataframe thead th {\n",
       "        text-align: right;\n",
       "    }\n",
       "</style>\n",
       "<table border=\"1\" class=\"dataframe\">\n",
       "  <thead>\n",
       "    <tr style=\"text-align: right;\">\n",
       "      <th></th>\n",
       "      <th>Customer Id</th>\n",
       "      <th>Building_Painted</th>\n",
       "      <th>Building_Fenced</th>\n",
       "      <th>Garden</th>\n",
       "      <th>Settlement</th>\n",
       "    </tr>\n",
       "  </thead>\n",
       "  <tbody>\n",
       "    <tr>\n",
       "      <td>count</td>\n",
       "      <td>7160</td>\n",
       "      <td>7160</td>\n",
       "      <td>7160</td>\n",
       "      <td>7153</td>\n",
       "      <td>7160</td>\n",
       "    </tr>\n",
       "    <tr>\n",
       "      <td>unique</td>\n",
       "      <td>7160</td>\n",
       "      <td>2</td>\n",
       "      <td>2</td>\n",
       "      <td>2</td>\n",
       "      <td>2</td>\n",
       "    </tr>\n",
       "    <tr>\n",
       "      <td>top</td>\n",
       "      <td>H442</td>\n",
       "      <td>V</td>\n",
       "      <td>N</td>\n",
       "      <td>O</td>\n",
       "      <td>R</td>\n",
       "    </tr>\n",
       "    <tr>\n",
       "      <td>freq</td>\n",
       "      <td>1</td>\n",
       "      <td>5382</td>\n",
       "      <td>3608</td>\n",
       "      <td>3602</td>\n",
       "      <td>3610</td>\n",
       "    </tr>\n",
       "  </tbody>\n",
       "</table>\n",
       "</div>"
      ],
      "text/plain": [
       "       Customer Id Building_Painted Building_Fenced Garden Settlement\n",
       "count         7160             7160            7160   7153       7160\n",
       "unique        7160                2               2      2          2\n",
       "top           H442                V               N      O          R\n",
       "freq             1             5382            3608   3602       3610"
      ]
     },
     "execution_count": 17,
     "metadata": {},
     "output_type": "execute_result"
    }
   ],
   "source": [
    "# including the object type inthe summary statistics\n",
    "\n",
    "train_data.describe(include=object)"
   ]
  },
  {
   "cell_type": "code",
   "execution_count": 12,
   "metadata": {},
   "outputs": [
    {
     "data": {
      "text/html": [
       "<div>\n",
       "<style scoped>\n",
       "    .dataframe tbody tr th:only-of-type {\n",
       "        vertical-align: middle;\n",
       "    }\n",
       "\n",
       "    .dataframe tbody tr th {\n",
       "        vertical-align: top;\n",
       "    }\n",
       "\n",
       "    .dataframe thead th {\n",
       "        text-align: right;\n",
       "    }\n",
       "</style>\n",
       "<table border=\"1\" class=\"dataframe\">\n",
       "  <thead>\n",
       "    <tr style=\"text-align: right;\">\n",
       "      <th></th>\n",
       "      <th>count</th>\n",
       "      <th>mean</th>\n",
       "      <th>std</th>\n",
       "      <th>min</th>\n",
       "      <th>25%</th>\n",
       "      <th>50%</th>\n",
       "      <th>75%</th>\n",
       "      <th>max</th>\n",
       "    </tr>\n",
       "  </thead>\n",
       "  <tbody>\n",
       "    <tr>\n",
       "      <td>YearOfObservation</td>\n",
       "      <td>7160.0</td>\n",
       "      <td>2013.669553</td>\n",
       "      <td>1.383769</td>\n",
       "      <td>2012.0</td>\n",
       "      <td>2012.000000</td>\n",
       "      <td>2013.0</td>\n",
       "      <td>2015.0</td>\n",
       "      <td>2016.0</td>\n",
       "    </tr>\n",
       "    <tr>\n",
       "      <td>Insured_Period</td>\n",
       "      <td>7160.0</td>\n",
       "      <td>0.909758</td>\n",
       "      <td>0.239756</td>\n",
       "      <td>0.0</td>\n",
       "      <td>0.997268</td>\n",
       "      <td>1.0</td>\n",
       "      <td>1.0</td>\n",
       "      <td>1.0</td>\n",
       "    </tr>\n",
       "    <tr>\n",
       "      <td>Residential</td>\n",
       "      <td>7160.0</td>\n",
       "      <td>0.305447</td>\n",
       "      <td>0.460629</td>\n",
       "      <td>0.0</td>\n",
       "      <td>0.000000</td>\n",
       "      <td>0.0</td>\n",
       "      <td>1.0</td>\n",
       "      <td>1.0</td>\n",
       "    </tr>\n",
       "    <tr>\n",
       "      <td>Building_Type</td>\n",
       "      <td>7160.0</td>\n",
       "      <td>2.186034</td>\n",
       "      <td>0.940632</td>\n",
       "      <td>1.0</td>\n",
       "      <td>2.000000</td>\n",
       "      <td>2.0</td>\n",
       "      <td>3.0</td>\n",
       "      <td>4.0</td>\n",
       "    </tr>\n",
       "    <tr>\n",
       "      <td>Date_of_Occupancy</td>\n",
       "      <td>6652.0</td>\n",
       "      <td>1964.456404</td>\n",
       "      <td>36.002014</td>\n",
       "      <td>1545.0</td>\n",
       "      <td>1960.000000</td>\n",
       "      <td>1970.0</td>\n",
       "      <td>1980.0</td>\n",
       "      <td>2016.0</td>\n",
       "    </tr>\n",
       "    <tr>\n",
       "      <td>Claim</td>\n",
       "      <td>7160.0</td>\n",
       "      <td>0.228212</td>\n",
       "      <td>0.419709</td>\n",
       "      <td>0.0</td>\n",
       "      <td>0.000000</td>\n",
       "      <td>0.0</td>\n",
       "      <td>0.0</td>\n",
       "      <td>1.0</td>\n",
       "    </tr>\n",
       "  </tbody>\n",
       "</table>\n",
       "</div>"
      ],
      "text/plain": [
       "                    count         mean        std     min          25%  \\\n",
       "YearOfObservation  7160.0  2013.669553   1.383769  2012.0  2012.000000   \n",
       "Insured_Period     7160.0     0.909758   0.239756     0.0     0.997268   \n",
       "Residential        7160.0     0.305447   0.460629     0.0     0.000000   \n",
       "Building_Type      7160.0     2.186034   0.940632     1.0     2.000000   \n",
       "Date_of_Occupancy  6652.0  1964.456404  36.002014  1545.0  1960.000000   \n",
       "Claim              7160.0     0.228212   0.419709     0.0     0.000000   \n",
       "\n",
       "                      50%     75%     max  \n",
       "YearOfObservation  2013.0  2015.0  2016.0  \n",
       "Insured_Period        1.0     1.0     1.0  \n",
       "Residential           0.0     1.0     1.0  \n",
       "Building_Type         2.0     3.0     4.0  \n",
       "Date_of_Occupancy  1970.0  1980.0  2016.0  \n",
       "Claim                 0.0     0.0     1.0  "
      ]
     },
     "execution_count": 12,
     "metadata": {},
     "output_type": "execute_result"
    }
   ],
   "source": [
    "train_data.describe() .T"
   ]
  },
  {
   "cell_type": "code",
   "execution_count": 18,
   "metadata": {},
   "outputs": [
    {
     "data": {
      "text/plain": [
       "Customer Id           object\n",
       "YearOfObservation      int64\n",
       "Insured_Period       float64\n",
       "Residential            int64\n",
       "Building_Painted      object\n",
       "Building_Fenced       object\n",
       "Garden                object\n",
       "Settlement            object\n",
       "Building_Type          int64\n",
       "Date_of_Occupancy    float64\n",
       "Claim                  int64\n",
       "dtype: object"
      ]
     },
     "execution_count": 18,
     "metadata": {},
     "output_type": "execute_result"
    }
   ],
   "source": [
    "train_data.dtypes"
   ]
  },
  {
   "cell_type": "code",
   "execution_count": 19,
   "metadata": {},
   "outputs": [
    {
     "data": {
      "text/plain": [
       "object     5\n",
       "int64      4\n",
       "float64    2\n",
       "dtype: int64"
      ]
     },
     "execution_count": 19,
     "metadata": {},
     "output_type": "execute_result"
    }
   ],
   "source": [
    "train_data.dtypes.value_counts()"
   ]
  },
  {
   "cell_type": "code",
   "execution_count": 20,
   "metadata": {},
   "outputs": [
    {
     "data": {
      "text/plain": [
       "Index(['Customer Id', 'Building_Painted', 'Building_Fenced', 'Garden',\n",
       "       'Settlement'],\n",
       "      dtype='object')"
      ]
     },
     "execution_count": 20,
     "metadata": {},
     "output_type": "execute_result"
    }
   ],
   "source": [
    "train_data.select_dtypes(object).columns"
   ]
  },
  {
   "cell_type": "code",
   "execution_count": 21,
   "metadata": {},
   "outputs": [
    {
     "data": {
      "text/plain": [
       "YearOfObservation    2013.669553\n",
       "Insured_Period          0.909758\n",
       "Residential             0.305447\n",
       "Building_Type           2.186034\n",
       "Date_of_Occupancy    1964.456404\n",
       "Claim                   0.228212\n",
       "dtype: float64"
      ]
     },
     "execution_count": 21,
     "metadata": {},
     "output_type": "execute_result"
    }
   ],
   "source": [
    "#Geting individual mean to better understand the dataset\n",
    "\n",
    "train_data.mean()"
   ]
  },
  {
   "cell_type": "code",
   "execution_count": 22,
   "metadata": {},
   "outputs": [
    {
     "data": {
      "text/plain": [
       "YearOfObservation     1.383769\n",
       "Insured_Period        0.239756\n",
       "Residential           0.460629\n",
       "Building_Type         0.940632\n",
       "Date_of_Occupancy    36.002014\n",
       "Claim                 0.419709\n",
       "dtype: float64"
      ]
     },
     "execution_count": 22,
     "metadata": {},
     "output_type": "execute_result"
    }
   ],
   "source": [
    "# standard deviation of the dataset \n",
    "\n",
    "train_data.std()"
   ]
  },
  {
   "cell_type": "code",
   "execution_count": 23,
   "metadata": {},
   "outputs": [
    {
     "data": {
      "text/plain": [
       "YearOfObservation    2013.0\n",
       "Insured_Period          1.0\n",
       "Residential             0.0\n",
       "Building_Type           2.0\n",
       "Date_of_Occupancy    1970.0\n",
       "Claim                   0.0\n",
       "Name: 0.5, dtype: float64"
      ]
     },
     "execution_count": 23,
     "metadata": {},
     "output_type": "execute_result"
    }
   ],
   "source": [
    "train_data.quantile()"
   ]
  },
  {
   "cell_type": "code",
   "execution_count": 24,
   "metadata": {},
   "outputs": [
    {
     "data": {
      "text/html": [
       "<div>\n",
       "<style scoped>\n",
       "    .dataframe tbody tr th:only-of-type {\n",
       "        vertical-align: middle;\n",
       "    }\n",
       "\n",
       "    .dataframe tbody tr th {\n",
       "        vertical-align: top;\n",
       "    }\n",
       "\n",
       "    .dataframe thead th {\n",
       "        text-align: right;\n",
       "    }\n",
       "</style>\n",
       "<table border=\"1\" class=\"dataframe\">\n",
       "  <thead>\n",
       "    <tr style=\"text-align: right;\">\n",
       "      <th></th>\n",
       "      <th>YearOfObservation</th>\n",
       "      <th>Insured_Period</th>\n",
       "      <th>Residential</th>\n",
       "      <th>Building_Type</th>\n",
       "      <th>Date_of_Occupancy</th>\n",
       "      <th>Claim</th>\n",
       "    </tr>\n",
       "  </thead>\n",
       "  <tbody>\n",
       "    <tr>\n",
       "      <td>YearOfObservation</td>\n",
       "      <td>1.000000</td>\n",
       "      <td>0.025434</td>\n",
       "      <td>-0.040391</td>\n",
       "      <td>0.005490</td>\n",
       "      <td>-0.029492</td>\n",
       "      <td>-0.016367</td>\n",
       "    </tr>\n",
       "    <tr>\n",
       "      <td>Insured_Period</td>\n",
       "      <td>0.025434</td>\n",
       "      <td>1.000000</td>\n",
       "      <td>-0.037620</td>\n",
       "      <td>-0.017811</td>\n",
       "      <td>-0.003445</td>\n",
       "      <td>0.088715</td>\n",
       "    </tr>\n",
       "    <tr>\n",
       "      <td>Residential</td>\n",
       "      <td>-0.040391</td>\n",
       "      <td>-0.037620</td>\n",
       "      <td>1.000000</td>\n",
       "      <td>0.334039</td>\n",
       "      <td>-0.042058</td>\n",
       "      <td>0.063509</td>\n",
       "    </tr>\n",
       "    <tr>\n",
       "      <td>Building_Type</td>\n",
       "      <td>0.005490</td>\n",
       "      <td>-0.017811</td>\n",
       "      <td>0.334039</td>\n",
       "      <td>1.000000</td>\n",
       "      <td>-0.146608</td>\n",
       "      <td>0.112168</td>\n",
       "    </tr>\n",
       "    <tr>\n",
       "      <td>Date_of_Occupancy</td>\n",
       "      <td>-0.029492</td>\n",
       "      <td>-0.003445</td>\n",
       "      <td>-0.042058</td>\n",
       "      <td>-0.146608</td>\n",
       "      <td>1.000000</td>\n",
       "      <td>0.019170</td>\n",
       "    </tr>\n",
       "    <tr>\n",
       "      <td>Claim</td>\n",
       "      <td>-0.016367</td>\n",
       "      <td>0.088715</td>\n",
       "      <td>0.063509</td>\n",
       "      <td>0.112168</td>\n",
       "      <td>0.019170</td>\n",
       "      <td>1.000000</td>\n",
       "    </tr>\n",
       "  </tbody>\n",
       "</table>\n",
       "</div>"
      ],
      "text/plain": [
       "                   YearOfObservation  Insured_Period  Residential  \\\n",
       "YearOfObservation           1.000000        0.025434    -0.040391   \n",
       "Insured_Period              0.025434        1.000000    -0.037620   \n",
       "Residential                -0.040391       -0.037620     1.000000   \n",
       "Building_Type               0.005490       -0.017811     0.334039   \n",
       "Date_of_Occupancy          -0.029492       -0.003445    -0.042058   \n",
       "Claim                      -0.016367        0.088715     0.063509   \n",
       "\n",
       "                   Building_Type  Date_of_Occupancy     Claim  \n",
       "YearOfObservation       0.005490          -0.029492 -0.016367  \n",
       "Insured_Period         -0.017811          -0.003445  0.088715  \n",
       "Residential             0.334039          -0.042058  0.063509  \n",
       "Building_Type           1.000000          -0.146608  0.112168  \n",
       "Date_of_Occupancy      -0.146608           1.000000  0.019170  \n",
       "Claim                   0.112168           0.019170  1.000000  "
      ]
     },
     "execution_count": 24,
     "metadata": {},
     "output_type": "execute_result"
    }
   ],
   "source": [
    "#Correlations of the dataset\n",
    "\n",
    "train_data.corr()"
   ]
  },
  {
   "cell_type": "code",
   "execution_count": 25,
   "metadata": {},
   "outputs": [
    {
     "data": {
      "text/html": [
       "<div>\n",
       "<style scoped>\n",
       "    .dataframe tbody tr th:only-of-type {\n",
       "        vertical-align: middle;\n",
       "    }\n",
       "\n",
       "    .dataframe tbody tr th {\n",
       "        vertical-align: top;\n",
       "    }\n",
       "\n",
       "    .dataframe thead th {\n",
       "        text-align: right;\n",
       "    }\n",
       "</style>\n",
       "<table border=\"1\" class=\"dataframe\">\n",
       "  <thead>\n",
       "    <tr style=\"text-align: right;\">\n",
       "      <th></th>\n",
       "      <th>YearOfObservation</th>\n",
       "      <th>Claim</th>\n",
       "    </tr>\n",
       "  </thead>\n",
       "  <tbody>\n",
       "    <tr>\n",
       "      <td>YearOfObservation</td>\n",
       "      <td>1.000000</td>\n",
       "      <td>-0.016367</td>\n",
       "    </tr>\n",
       "    <tr>\n",
       "      <td>Claim</td>\n",
       "      <td>-0.016367</td>\n",
       "      <td>1.000000</td>\n",
       "    </tr>\n",
       "  </tbody>\n",
       "</table>\n",
       "</div>"
      ],
      "text/plain": [
       "                   YearOfObservation     Claim\n",
       "YearOfObservation           1.000000 -0.016367\n",
       "Claim                      -0.016367  1.000000"
      ]
     },
     "execution_count": 25,
     "metadata": {},
     "output_type": "execute_result"
    }
   ],
   "source": [
    "# correlation between yearofobservation and targetvariable claim\n",
    "\n",
    "train_data[['YearOfObservation', 'Claim']].corr()      \n",
    "                   "
   ]
  },
  {
   "cell_type": "code",
   "execution_count": 26,
   "metadata": {},
   "outputs": [
    {
     "data": {
      "text/html": [
       "<div>\n",
       "<style scoped>\n",
       "    .dataframe tbody tr th:only-of-type {\n",
       "        vertical-align: middle;\n",
       "    }\n",
       "\n",
       "    .dataframe tbody tr th {\n",
       "        vertical-align: top;\n",
       "    }\n",
       "\n",
       "    .dataframe thead th {\n",
       "        text-align: right;\n",
       "    }\n",
       "</style>\n",
       "<table border=\"1\" class=\"dataframe\">\n",
       "  <thead>\n",
       "    <tr style=\"text-align: right;\">\n",
       "      <th></th>\n",
       "      <th>Customer Id</th>\n",
       "      <th>YearOfObservation</th>\n",
       "      <th>Insured_Period</th>\n",
       "      <th>Residential</th>\n",
       "      <th>Building_Painted</th>\n",
       "      <th>Building_Fenced</th>\n",
       "      <th>Garden</th>\n",
       "      <th>Settlement</th>\n",
       "      <th>Building_Type</th>\n",
       "      <th>Date_of_Occupancy</th>\n",
       "      <th>Claim</th>\n",
       "    </tr>\n",
       "  </thead>\n",
       "  <tbody>\n",
       "    <tr>\n",
       "      <td>6206</td>\n",
       "      <td>H5237</td>\n",
       "      <td>2013</td>\n",
       "      <td>1.0</td>\n",
       "      <td>1</td>\n",
       "      <td>N</td>\n",
       "      <td>V</td>\n",
       "      <td>V</td>\n",
       "      <td>U</td>\n",
       "      <td>1</td>\n",
       "      <td>1960.0</td>\n",
       "      <td>1</td>\n",
       "    </tr>\n",
       "    <tr>\n",
       "      <td>1570</td>\n",
       "      <td>H3880</td>\n",
       "      <td>2015</td>\n",
       "      <td>1.0</td>\n",
       "      <td>0</td>\n",
       "      <td>V</td>\n",
       "      <td>V</td>\n",
       "      <td>V</td>\n",
       "      <td>U</td>\n",
       "      <td>2</td>\n",
       "      <td>1980.0</td>\n",
       "      <td>1</td>\n",
       "    </tr>\n",
       "    <tr>\n",
       "      <td>1568</td>\n",
       "      <td>H3866</td>\n",
       "      <td>2015</td>\n",
       "      <td>1.0</td>\n",
       "      <td>0</td>\n",
       "      <td>V</td>\n",
       "      <td>N</td>\n",
       "      <td>O</td>\n",
       "      <td>R</td>\n",
       "      <td>2</td>\n",
       "      <td>1970.0</td>\n",
       "      <td>1</td>\n",
       "    </tr>\n",
       "    <tr>\n",
       "      <td>4746</td>\n",
       "      <td>H15349</td>\n",
       "      <td>2012</td>\n",
       "      <td>1.0</td>\n",
       "      <td>0</td>\n",
       "      <td>V</td>\n",
       "      <td>N</td>\n",
       "      <td>O</td>\n",
       "      <td>R</td>\n",
       "      <td>1</td>\n",
       "      <td>2004.0</td>\n",
       "      <td>1</td>\n",
       "    </tr>\n",
       "    <tr>\n",
       "      <td>5963</td>\n",
       "      <td>H15430</td>\n",
       "      <td>2013</td>\n",
       "      <td>1.0</td>\n",
       "      <td>0</td>\n",
       "      <td>V</td>\n",
       "      <td>N</td>\n",
       "      <td>O</td>\n",
       "      <td>R</td>\n",
       "      <td>1</td>\n",
       "      <td>1996.0</td>\n",
       "      <td>1</td>\n",
       "    </tr>\n",
       "    <tr>\n",
       "      <td>...</td>\n",
       "      <td>...</td>\n",
       "      <td>...</td>\n",
       "      <td>...</td>\n",
       "      <td>...</td>\n",
       "      <td>...</td>\n",
       "      <td>...</td>\n",
       "      <td>...</td>\n",
       "      <td>...</td>\n",
       "      <td>...</td>\n",
       "      <td>...</td>\n",
       "      <td>...</td>\n",
       "    </tr>\n",
       "    <tr>\n",
       "      <td>2690</td>\n",
       "      <td>H5615</td>\n",
       "      <td>2016</td>\n",
       "      <td>1.0</td>\n",
       "      <td>0</td>\n",
       "      <td>V</td>\n",
       "      <td>V</td>\n",
       "      <td>V</td>\n",
       "      <td>U</td>\n",
       "      <td>1</td>\n",
       "      <td>1960.0</td>\n",
       "      <td>0</td>\n",
       "    </tr>\n",
       "    <tr>\n",
       "      <td>2688</td>\n",
       "      <td>H4549</td>\n",
       "      <td>2015</td>\n",
       "      <td>1.0</td>\n",
       "      <td>0</td>\n",
       "      <td>V</td>\n",
       "      <td>N</td>\n",
       "      <td>O</td>\n",
       "      <td>R</td>\n",
       "      <td>1</td>\n",
       "      <td>2000.0</td>\n",
       "      <td>0</td>\n",
       "    </tr>\n",
       "    <tr>\n",
       "      <td>2687</td>\n",
       "      <td>H4548</td>\n",
       "      <td>2012</td>\n",
       "      <td>1.0</td>\n",
       "      <td>0</td>\n",
       "      <td>V</td>\n",
       "      <td>N</td>\n",
       "      <td>O</td>\n",
       "      <td>R</td>\n",
       "      <td>1</td>\n",
       "      <td>2000.0</td>\n",
       "      <td>0</td>\n",
       "    </tr>\n",
       "    <tr>\n",
       "      <td>2686</td>\n",
       "      <td>H291</td>\n",
       "      <td>2012</td>\n",
       "      <td>1.0</td>\n",
       "      <td>0</td>\n",
       "      <td>V</td>\n",
       "      <td>V</td>\n",
       "      <td>V</td>\n",
       "      <td>U</td>\n",
       "      <td>1</td>\n",
       "      <td>1960.0</td>\n",
       "      <td>0</td>\n",
       "    </tr>\n",
       "    <tr>\n",
       "      <td>7159</td>\n",
       "      <td>H7470</td>\n",
       "      <td>2014</td>\n",
       "      <td>1.0</td>\n",
       "      <td>0</td>\n",
       "      <td>V</td>\n",
       "      <td>V</td>\n",
       "      <td>V</td>\n",
       "      <td>U</td>\n",
       "      <td>1</td>\n",
       "      <td>2004.0</td>\n",
       "      <td>0</td>\n",
       "    </tr>\n",
       "  </tbody>\n",
       "</table>\n",
       "<p>7160 rows × 11 columns</p>\n",
       "</div>"
      ],
      "text/plain": [
       "     Customer Id  YearOfObservation  Insured_Period  Residential  \\\n",
       "6206       H5237               2013             1.0            1   \n",
       "1570       H3880               2015             1.0            0   \n",
       "1568       H3866               2015             1.0            0   \n",
       "4746      H15349               2012             1.0            0   \n",
       "5963      H15430               2013             1.0            0   \n",
       "...          ...                ...             ...          ...   \n",
       "2690       H5615               2016             1.0            0   \n",
       "2688       H4549               2015             1.0            0   \n",
       "2687       H4548               2012             1.0            0   \n",
       "2686        H291               2012             1.0            0   \n",
       "7159       H7470               2014             1.0            0   \n",
       "\n",
       "     Building_Painted Building_Fenced Garden Settlement  Building_Type  \\\n",
       "6206                N               V      V          U              1   \n",
       "1570                V               V      V          U              2   \n",
       "1568                V               N      O          R              2   \n",
       "4746                V               N      O          R              1   \n",
       "5963                V               N      O          R              1   \n",
       "...               ...             ...    ...        ...            ...   \n",
       "2690                V               V      V          U              1   \n",
       "2688                V               N      O          R              1   \n",
       "2687                V               N      O          R              1   \n",
       "2686                V               V      V          U              1   \n",
       "7159                V               V      V          U              1   \n",
       "\n",
       "      Date_of_Occupancy  Claim  \n",
       "6206             1960.0      1  \n",
       "1570             1980.0      1  \n",
       "1568             1970.0      1  \n",
       "4746             2004.0      1  \n",
       "5963             1996.0      1  \n",
       "...                 ...    ...  \n",
       "2690             1960.0      0  \n",
       "2688             2000.0      0  \n",
       "2687             2000.0      0  \n",
       "2686             1960.0      0  \n",
       "7159             2004.0      0  \n",
       "\n",
       "[7160 rows x 11 columns]"
      ]
     },
     "execution_count": 26,
     "metadata": {},
     "output_type": "execute_result"
    }
   ],
   "source": [
    "#sorting out the data by target variable which is Claim\n",
    "\n",
    "train_data_sort = train_data.sort_values(by='Claim', ascending=False)\n",
    "\n",
    "train_data_sort"
   ]
  },
  {
   "cell_type": "code",
   "execution_count": 27,
   "metadata": {},
   "outputs": [
    {
     "data": {
      "text/plain": [
       "(array([5526.,    0.,    0.,    0.,    0.,    0.,    0.,    0.,    0.,\n",
       "        1634.]),\n",
       " array([0. , 0.1, 0.2, 0.3, 0.4, 0.5, 0.6, 0.7, 0.8, 0.9, 1. ]),\n",
       " <a list of 10 Patch objects>)"
      ]
     },
     "execution_count": 27,
     "metadata": {},
     "output_type": "execute_result"
    },
    {
     "data": {
      "image/png": "[encoded data removed]",
      "text/plain": [
       "<Figure size 432x288 with 1 Axes>"
      ]
     },
     "metadata": {
      "needs_background": "light"
     },
     "output_type": "display_data"
    }
   ],
   "source": [
    "#Plotting histogram for continuous numerical variable Claim\n",
    "\n",
    "num_of_bins=10\n",
    "\n",
    "plt.hist(train_data['Claim'],num_of_bins)"
   ]
  },
  {
   "cell_type": "code",
   "execution_count": 28,
   "metadata": {},
   "outputs": [
    {
     "data": {
      "text/plain": [
       "<matplotlib.axes._subplots.AxesSubplot at 0x5888230>"
      ]
     },
     "execution_count": 28,
     "metadata": {},
     "output_type": "execute_result"
    },
    {
     "data": {
      "image/png": "[encoded data removed]",
      "text/plain": [
       "<Figure size 432x288 with 1 Axes>"
      ]
     },
     "metadata": {
      "needs_background": "light"
     },
     "output_type": "display_data"
    }
   ],
   "source": [
    "#using seaborn to get the  probability density function\n",
    "\n",
    "sbn.distplot(train_data['Claim'],bins=10)"
   ]
  },
  {
   "cell_type": "code",
   "execution_count": 29,
   "metadata": {},
   "outputs": [
    {
     "data": {
      "text/plain": [
       "(array([ 250.,   98.,   94.,   60.,  141.,   93.,   76.,  148.,  121.,\n",
       "        6079.]),\n",
       " array([0. , 0.1, 0.2, 0.3, 0.4, 0.5, 0.6, 0.7, 0.8, 0.9, 1. ]),\n",
       " <a list of 10 Patch objects>)"
      ]
     },
     "execution_count": 29,
     "metadata": {},
     "output_type": "execute_result"
    },
    {
     "data": {
      "image/png": "[encoded data removed]",
      "text/plain": [
       "<Figure size 432x288 with 1 Axes>"
      ]
     },
     "metadata": {
      "needs_background": "light"
     },
     "output_type": "display_data"
    }
   ],
   "source": [
    "#Plotting histogram for continuous numerical variable insured period\n",
    "\n",
    "num_of_bins=10\n",
    "\n",
    "plt.hist(train_data['Insured_Period'],num_of_bins)"
   ]
  },
  {
   "cell_type": "code",
   "execution_count": 30,
   "metadata": {},
   "outputs": [
    {
     "data": {
      "text/plain": [
       "<matplotlib.axes._subplots.AxesSubplot at 0x593d7f0>"
      ]
     },
     "execution_count": 30,
     "metadata": {},
     "output_type": "execute_result"
    },
    {
     "data": {
      "image/png": "[encoded data removed]",
      "text/plain": [
       "<Figure size 432x288 with 1 Axes>"
      ]
     },
     "metadata": {
      "needs_background": "light"
     },
     "output_type": "display_data"
    }
   ],
   "source": [
    "#using seaborn to get the  probability density function\n",
    "\n",
    "sbn.distplot(train_data['Insured_Period'],bins=10)"
   ]
  },
  {
   "cell_type": "code",
   "execution_count": 31,
   "metadata": {},
   "outputs": [
    {
     "data": {
      "text/html": [
       "<div>\n",
       "<style scoped>\n",
       "    .dataframe tbody tr th:only-of-type {\n",
       "        vertical-align: middle;\n",
       "    }\n",
       "\n",
       "    .dataframe tbody tr th {\n",
       "        vertical-align: top;\n",
       "    }\n",
       "\n",
       "    .dataframe thead th {\n",
       "        text-align: right;\n",
       "    }\n",
       "</style>\n",
       "<table border=\"1\" class=\"dataframe\">\n",
       "  <thead>\n",
       "    <tr style=\"text-align: right;\">\n",
       "      <th></th>\n",
       "      <th>YearOfObservation</th>\n",
       "      <th>Insured_Period</th>\n",
       "      <th>Residential</th>\n",
       "      <th>Building_Type</th>\n",
       "      <th>Date_of_Occupancy</th>\n",
       "      <th>Claim</th>\n",
       "    </tr>\n",
       "  </thead>\n",
       "  <tbody>\n",
       "    <tr>\n",
       "      <td>0</td>\n",
       "      <td>2013</td>\n",
       "      <td>1.000000</td>\n",
       "      <td>0</td>\n",
       "      <td>1</td>\n",
       "      <td>1960.0</td>\n",
       "      <td>0</td>\n",
       "    </tr>\n",
       "    <tr>\n",
       "      <td>1</td>\n",
       "      <td>2015</td>\n",
       "      <td>1.000000</td>\n",
       "      <td>0</td>\n",
       "      <td>1</td>\n",
       "      <td>1850.0</td>\n",
       "      <td>0</td>\n",
       "    </tr>\n",
       "    <tr>\n",
       "      <td>2</td>\n",
       "      <td>2014</td>\n",
       "      <td>1.000000</td>\n",
       "      <td>0</td>\n",
       "      <td>1</td>\n",
       "      <td>1960.0</td>\n",
       "      <td>0</td>\n",
       "    </tr>\n",
       "    <tr>\n",
       "      <td>3</td>\n",
       "      <td>2013</td>\n",
       "      <td>1.000000</td>\n",
       "      <td>0</td>\n",
       "      <td>1</td>\n",
       "      <td>1960.0</td>\n",
       "      <td>0</td>\n",
       "    </tr>\n",
       "    <tr>\n",
       "      <td>4</td>\n",
       "      <td>2014</td>\n",
       "      <td>1.000000</td>\n",
       "      <td>0</td>\n",
       "      <td>1</td>\n",
       "      <td>1800.0</td>\n",
       "      <td>0</td>\n",
       "    </tr>\n",
       "    <tr>\n",
       "      <td>...</td>\n",
       "      <td>...</td>\n",
       "      <td>...</td>\n",
       "      <td>...</td>\n",
       "      <td>...</td>\n",
       "      <td>...</td>\n",
       "      <td>...</td>\n",
       "    </tr>\n",
       "    <tr>\n",
       "      <td>7155</td>\n",
       "      <td>2012</td>\n",
       "      <td>1.000000</td>\n",
       "      <td>1</td>\n",
       "      <td>1</td>\n",
       "      <td>2001.0</td>\n",
       "      <td>0</td>\n",
       "    </tr>\n",
       "    <tr>\n",
       "      <td>7156</td>\n",
       "      <td>2013</td>\n",
       "      <td>1.000000</td>\n",
       "      <td>0</td>\n",
       "      <td>2</td>\n",
       "      <td>1980.0</td>\n",
       "      <td>1</td>\n",
       "    </tr>\n",
       "    <tr>\n",
       "      <td>7157</td>\n",
       "      <td>2016</td>\n",
       "      <td>0.038251</td>\n",
       "      <td>0</td>\n",
       "      <td>1</td>\n",
       "      <td>1992.0</td>\n",
       "      <td>0</td>\n",
       "    </tr>\n",
       "    <tr>\n",
       "      <td>7158</td>\n",
       "      <td>2013</td>\n",
       "      <td>1.000000</td>\n",
       "      <td>0</td>\n",
       "      <td>1</td>\n",
       "      <td>1972.0</td>\n",
       "      <td>0</td>\n",
       "    </tr>\n",
       "    <tr>\n",
       "      <td>7159</td>\n",
       "      <td>2014</td>\n",
       "      <td>1.000000</td>\n",
       "      <td>0</td>\n",
       "      <td>1</td>\n",
       "      <td>2004.0</td>\n",
       "      <td>0</td>\n",
       "    </tr>\n",
       "  </tbody>\n",
       "</table>\n",
       "<p>7160 rows × 6 columns</p>\n",
       "</div>"
      ],
      "text/plain": [
       "      YearOfObservation  Insured_Period  Residential  Building_Type  \\\n",
       "0                  2013        1.000000            0              1   \n",
       "1                  2015        1.000000            0              1   \n",
       "2                  2014        1.000000            0              1   \n",
       "3                  2013        1.000000            0              1   \n",
       "4                  2014        1.000000            0              1   \n",
       "...                 ...             ...          ...            ...   \n",
       "7155               2012        1.000000            1              1   \n",
       "7156               2013        1.000000            0              2   \n",
       "7157               2016        0.038251            0              1   \n",
       "7158               2013        1.000000            0              1   \n",
       "7159               2014        1.000000            0              1   \n",
       "\n",
       "      Date_of_Occupancy  Claim  \n",
       "0                1960.0      0  \n",
       "1                1850.0      0  \n",
       "2                1960.0      0  \n",
       "3                1960.0      0  \n",
       "4                1800.0      0  \n",
       "...                 ...    ...  \n",
       "7155             2001.0      0  \n",
       "7156             1980.0      1  \n",
       "7157             1992.0      0  \n",
       "7158             1972.0      0  \n",
       "7159             2004.0      0  \n",
       "\n",
       "[7160 rows x 6 columns]"
      ]
     },
     "execution_count": 31,
     "metadata": {},
     "output_type": "execute_result"
    }
   ],
   "source": [
    "#Selecting the colums that are numeric that is, float64 and int64\n",
    "\n",
    "train_data.select_dtypes(\"number\")"
   ]
  },
  {
   "cell_type": "code",
   "execution_count": 32,
   "metadata": {},
   "outputs": [],
   "source": [
    "#Using groupby for cross tabulation to count categorical variables \n",
    "making_distri = train_data.groupby('Customer Id').size()"
   ]
  },
  {
   "cell_type": "code",
   "execution_count": 35,
   "metadata": {},
   "outputs": [
    {
     "data": {
      "text/plain": [
       "Customer Id\n",
       "H12608    1\n",
       "H12616    1\n",
       "H12617    1\n",
       "H12619    1\n",
       "H12621    1\n",
       "         ..\n",
       "H7473     1\n",
       "H7474     1\n",
       "H7475     1\n",
       "H7477     1\n",
       "H7478     1\n",
       "Length: 7160, dtype: int64"
      ]
     },
     "execution_count": 35,
     "metadata": {},
     "output_type": "execute_result"
    }
   ],
   "source": [
    "making_distri"
   ]
  },
  {
   "cell_type": "code",
   "execution_count": 33,
   "metadata": {},
   "outputs": [
    {
     "data": {
      "text/plain": [
       "<matplotlib.axes._subplots.AxesSubplot at 0x593d8b0>"
      ]
     },
     "execution_count": 33,
     "metadata": {},
     "output_type": "execute_result"
    },
    {
     "data": {
      "image/png": "[encoded data removed]",
      "text/plain": [
       "<Figure size 432x288 with 1 Axes>"
      ]
     },
     "metadata": {
      "needs_background": "light"
     },
     "output_type": "display_data"
    }
   ],
   "source": [
    "making_distri.plot(title='Customer identification')"
   ]
  },
  {
   "cell_type": "code",
   "execution_count": 34,
   "metadata": {},
   "outputs": [
    {
     "data": {
      "text/html": [
       "<div>\n",
       "<style scoped>\n",
       "    .dataframe tbody tr th:only-of-type {\n",
       "        vertical-align: middle;\n",
       "    }\n",
       "\n",
       "    .dataframe tbody tr th {\n",
       "        vertical-align: top;\n",
       "    }\n",
       "\n",
       "    .dataframe thead th {\n",
       "        text-align: right;\n",
       "    }\n",
       "</style>\n",
       "<table border=\"1\" class=\"dataframe\">\n",
       "  <thead>\n",
       "    <tr style=\"text-align: right;\">\n",
       "      <th></th>\n",
       "      <th>YearOfObservation</th>\n",
       "      <th>Insured_Period</th>\n",
       "      <th>Residential</th>\n",
       "      <th>Building_Type</th>\n",
       "      <th>Date_of_Occupancy</th>\n",
       "      <th>Claim</th>\n",
       "    </tr>\n",
       "  </thead>\n",
       "  <tbody>\n",
       "    <tr>\n",
       "      <td>0</td>\n",
       "      <td>2013</td>\n",
       "      <td>1.000000</td>\n",
       "      <td>0</td>\n",
       "      <td>1</td>\n",
       "      <td>1960.0</td>\n",
       "      <td>0</td>\n",
       "    </tr>\n",
       "    <tr>\n",
       "      <td>1</td>\n",
       "      <td>2015</td>\n",
       "      <td>1.000000</td>\n",
       "      <td>0</td>\n",
       "      <td>1</td>\n",
       "      <td>1850.0</td>\n",
       "      <td>0</td>\n",
       "    </tr>\n",
       "    <tr>\n",
       "      <td>2</td>\n",
       "      <td>2014</td>\n",
       "      <td>1.000000</td>\n",
       "      <td>0</td>\n",
       "      <td>1</td>\n",
       "      <td>1960.0</td>\n",
       "      <td>0</td>\n",
       "    </tr>\n",
       "    <tr>\n",
       "      <td>3</td>\n",
       "      <td>2013</td>\n",
       "      <td>1.000000</td>\n",
       "      <td>0</td>\n",
       "      <td>1</td>\n",
       "      <td>1960.0</td>\n",
       "      <td>0</td>\n",
       "    </tr>\n",
       "    <tr>\n",
       "      <td>4</td>\n",
       "      <td>2014</td>\n",
       "      <td>1.000000</td>\n",
       "      <td>0</td>\n",
       "      <td>1</td>\n",
       "      <td>1800.0</td>\n",
       "      <td>0</td>\n",
       "    </tr>\n",
       "    <tr>\n",
       "      <td>...</td>\n",
       "      <td>...</td>\n",
       "      <td>...</td>\n",
       "      <td>...</td>\n",
       "      <td>...</td>\n",
       "      <td>...</td>\n",
       "      <td>...</td>\n",
       "    </tr>\n",
       "    <tr>\n",
       "      <td>7155</td>\n",
       "      <td>2012</td>\n",
       "      <td>1.000000</td>\n",
       "      <td>1</td>\n",
       "      <td>1</td>\n",
       "      <td>2001.0</td>\n",
       "      <td>0</td>\n",
       "    </tr>\n",
       "    <tr>\n",
       "      <td>7156</td>\n",
       "      <td>2013</td>\n",
       "      <td>1.000000</td>\n",
       "      <td>0</td>\n",
       "      <td>2</td>\n",
       "      <td>1980.0</td>\n",
       "      <td>1</td>\n",
       "    </tr>\n",
       "    <tr>\n",
       "      <td>7157</td>\n",
       "      <td>2016</td>\n",
       "      <td>0.038251</td>\n",
       "      <td>0</td>\n",
       "      <td>1</td>\n",
       "      <td>1992.0</td>\n",
       "      <td>0</td>\n",
       "    </tr>\n",
       "    <tr>\n",
       "      <td>7158</td>\n",
       "      <td>2013</td>\n",
       "      <td>1.000000</td>\n",
       "      <td>0</td>\n",
       "      <td>1</td>\n",
       "      <td>1972.0</td>\n",
       "      <td>0</td>\n",
       "    </tr>\n",
       "    <tr>\n",
       "      <td>7159</td>\n",
       "      <td>2014</td>\n",
       "      <td>1.000000</td>\n",
       "      <td>0</td>\n",
       "      <td>1</td>\n",
       "      <td>2004.0</td>\n",
       "      <td>0</td>\n",
       "    </tr>\n",
       "  </tbody>\n",
       "</table>\n",
       "<p>7160 rows × 6 columns</p>\n",
       "</div>"
      ],
      "text/plain": [
       "      YearOfObservation  Insured_Period  Residential  Building_Type  \\\n",
       "0                  2013        1.000000            0              1   \n",
       "1                  2015        1.000000            0              1   \n",
       "2                  2014        1.000000            0              1   \n",
       "3                  2013        1.000000            0              1   \n",
       "4                  2014        1.000000            0              1   \n",
       "...                 ...             ...          ...            ...   \n",
       "7155               2012        1.000000            1              1   \n",
       "7156               2013        1.000000            0              2   \n",
       "7157               2016        0.038251            0              1   \n",
       "7158               2013        1.000000            0              1   \n",
       "7159               2014        1.000000            0              1   \n",
       "\n",
       "      Date_of_Occupancy  Claim  \n",
       "0                1960.0      0  \n",
       "1                1850.0      0  \n",
       "2                1960.0      0  \n",
       "3                1960.0      0  \n",
       "4                1800.0      0  \n",
       "...                 ...    ...  \n",
       "7155             2001.0      0  \n",
       "7156             1980.0      1  \n",
       "7157             1992.0      0  \n",
       "7158             1972.0      0  \n",
       "7159             2004.0      0  \n",
       "\n",
       "[7160 rows x 6 columns]"
      ]
     },
     "execution_count": 34,
     "metadata": {},
     "output_type": "execute_result"
    }
   ],
   "source": [
    "# selecting all numerical variables\n",
    "\n",
    "train_data_num = train_data.select_dtypes(include=['float64', 'int64'])\n",
    "\n",
    "train_data_num"
   ]
  },
  {
   "cell_type": "code",
   "execution_count": 35,
   "metadata": {},
   "outputs": [
    {
     "data": {
      "text/plain": [
       "array([[<matplotlib.axes._subplots.AxesSubplot object at 0x059C5DD0>,\n",
       "        <matplotlib.axes._subplots.AxesSubplot object at 0x0593D530>],\n",
       "       [<matplotlib.axes._subplots.AxesSubplot object at 0x04179D90>,\n",
       "        <matplotlib.axes._subplots.AxesSubplot object at 0x0426AE50>],\n",
       "       [<matplotlib.axes._subplots.AxesSubplot object at 0x0428AF30>,\n",
       "        <matplotlib.axes._subplots.AxesSubplot object at 0x042ADA70>]],\n",
       "      dtype=object)"
      ]
     },
     "execution_count": 35,
     "metadata": {},
     "output_type": "execute_result"
    },
    {
     "data": {
      "image/png": "[encoded data removed]",
      "text/plain": [
       "<Figure size 432x288 with 6 Axes>"
      ]
     },
     "metadata": {
      "needs_background": "light"
     },
     "output_type": "display_data"
    }
   ],
   "source": [
    "#plotting histogram of all numerical variables\n",
    "\n",
    "train_data_num.hist(bins=20)"
   ]
  },
  {
   "cell_type": "code",
   "execution_count": 36,
   "metadata": {},
   "outputs": [],
   "source": [
    "#correlation with the target variable\n",
    "\n",
    "train_data_corre = train_data_num.corr()['Claim'][:-1]"
   ]
  },
  {
   "cell_type": "code",
   "execution_count": 37,
   "metadata": {},
   "outputs": [
    {
     "data": {
      "text/plain": [
       "YearOfObservation   -0.016367\n",
       "Insured_Period       0.088715\n",
       "Residential          0.063509\n",
       "Building_Type        0.112168\n",
       "Date_of_Occupancy    0.019170\n",
       "Name: Claim, dtype: float64"
      ]
     },
     "execution_count": 37,
     "metadata": {},
     "output_type": "execute_result"
    }
   ],
   "source": [
    "train_data_corre"
   ]
  },
  {
   "cell_type": "code",
   "execution_count": null,
   "metadata": {},
   "outputs": [],
   "source": [
    "#boxplot of categorical variable\n",
    "\n",
    "boxplt1 = sbn.boxplot(x='Customer Id', y='Claim', data=train_data)\n"
   ]
  },
  {
   "cell_type": "code",
   "execution_count": null,
   "metadata": {},
   "outputs": [],
   "source": [
    "#boxplot of categorical variable\n",
    "\n",
    "boxplt2 = sbn.boxplot(x='Settlement', y='Claim', data=train_data)\n"
   ]
  },
  {
   "cell_type": "code",
   "execution_count": null,
   "metadata": {},
   "outputs": [],
   "source": [
    "#boxplot of categorical variable\n",
    "\n",
    "boxplt3 = sbn.boxplot(x='Building_Fenced', y='Claim', data=train_data)\n"
   ]
  },
  {
   "cell_type": "code",
   "execution_count": null,
   "metadata": {},
   "outputs": [],
   "source": [
    "#boxplot of categorical variable\n",
    "\n",
    "boxplt4 = sbn.boxplot(x='Garden', y='Claim', data=train_data)\n"
   ]
  },
  {
   "cell_type": "code",
   "execution_count": 43,
   "metadata": {},
   "outputs": [
    {
     "data": {
      "image/png": "[encoded data removed]",
      "text/plain": [
       "<Figure size 432x288 with 1 Axes>"
      ]
     },
     "metadata": {
      "needs_background": "light"
     },
     "output_type": "display_data"
    }
   ],
   "source": [
    "#boxplot of categorical variable\n",
    "\n",
    "boxplt5 = sbn.boxplot(x='Building_Painted', y='Claim', data=train_data)\n"
   ]
  },
  {
   "cell_type": "code",
   "execution_count": 8,
   "metadata": {},
   "outputs": [
    {
     "data": {
      "image/png": "[encoded data removed]",
      "text/plain": [
       "<Figure size 1440x1440 with 6 Axes>"
      ]
     },
     "metadata": {
      "needs_background": "light"
     },
     "output_type": "display_data"
    }
   ],
   "source": [
    "#histogram of  the dataset\n",
    "\n",
    "train_data.hist(figsize=(20,20))\n",
    "#setting a large fig size because the dataset is many\n",
    "plt.tight_layout()\n",
    "plt.show()"
   ]
  },
  {
   "cell_type": "code",
   "execution_count": 9,
   "metadata": {},
   "outputs": [
    {
     "data": {
      "text/plain": [
       "<matplotlib.axes._subplots.AxesSubplot at 0x880dff0>"
      ]
     },
     "execution_count": 9,
     "metadata": {},
     "output_type": "execute_result"
    },
    {
     "data": {
      "image/png": "[encoded data removed]",
      "text/plain": [
       "<Figure size 432x288 with 1 Axes>"
      ]
     },
     "metadata": {
      "needs_background": "light"
     },
     "output_type": "display_data"
    }
   ],
   "source": [
    "#creating regression plot to determine the relationship between targetvariable\n",
    "# and other variable\n",
    "\n",
    "sbn.regplot(train_data['Insured_Period'],train_data['Claim'])"
   ]
  },
  {
   "cell_type": "code",
   "execution_count": null,
   "metadata": {},
   "outputs": [],
   "source": []
  },
  {
   "cell_type": "code",
   "execution_count": null,
   "metadata": {},
   "outputs": [],
   "source": []
  }
 ],
 "metadata": {
  "kernelspec": {
   "display_name": "Python 3",
   "language": "python",
   "name": "python3"
  },
  "language_info": {
   "codemirror_mode": {
    "name": "ipython",
    "version": 3
   },
   "file_extension": ".py",
   "mimetype": "text/x-python",
   "name": "python",
   "nbconvert_exporter": "python",
   "pygments_lexer": "ipython3",
   "version": "3.7.4"
  }
 },
 "nbformat": 4,
 "nbformat_minor": 2
}
